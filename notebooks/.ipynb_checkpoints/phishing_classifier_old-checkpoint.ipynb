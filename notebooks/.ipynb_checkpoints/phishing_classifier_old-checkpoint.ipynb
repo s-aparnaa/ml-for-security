{
 "cells": [
  {
   "cell_type": "code",
   "execution_count": 1,
   "id": "a00928e6-a20f-41c5-b246-7f7012972944",
   "metadata": {},
   "outputs": [],
   "source": [
    "# 📌 1. Import required libraries\n",
    "import pandas as pd\n",
    "from sklearn.model_selection import train_test_split\n",
    "from sklearn.feature_extraction.text import TfidfVectorizer\n",
    "from sklearn.linear_model import LogisticRegression\n",
    "from sklearn.metrics import classification_report\n"
   ]
  },
  {
   "cell_type": "code",
   "execution_count": null,
   "id": "289dad8c-53c6-41c7-86d0-ced927601adc",
   "metadata": {
    "scrolled": true
   },
   "outputs": [],
   "source": [
    "\n",
    "# 📥 2. Load the dataset\n",
    "df = pd.read_csv(\"../data/phishing_site_urls.csv\")\n",
    "print(df.head())\n",
    "\n",
    "# ✅ Optional: Rename or clean up columns depending on actual CSV structure\n",
    "df = df.rename(columns={'Label': 'label', 'URL': 'text'})  # Adjust if needed\n",
    "df['label'] = df['label'].map({'phishing': 1, 'legitimate': 0})  # Binary labels\n",
    "\n",
    "# ✂️ 3. Split data\n",
    "X_train, X_test, y_train, y_test = train_test_split(df['text'], df['label'], test_size=0.2, random_state=42)\n",
    "\n",
    "# ✏️ 4. Text vectorization\n",
    "vectorizer = TfidfVectorizer(stop_words='english', max_df=0.7)\n",
    "X_train_vec = vectorizer.fit_transform(X_train)\n",
    "X_test_vec = vectorizer.transform(X_test)\n",
    "\n",
    "# 🤖 5. Train the model\n",
    "model = LogisticRegression()\n",
    "model.fit(X_train_vec, y_train)\n",
    "\n",
    "# 📊 6. Evaluate\n",
    "y_pred = model.predict(X_test_vec)\n",
    "print(classification_report(y_test, y_pred))\n"
   ]
  },
  {
   "cell_type": "code",
   "execution_count": null,
   "id": "b6b75e21-4c6c-4492-8944-dda3bfbc09fa",
   "metadata": {},
   "outputs": [],
   "source": []
  }
 ],
 "metadata": {
  "kernelspec": {
   "display_name": "Python 3 (ipykernel)",
   "language": "python",
   "name": "python3"
  },
  "language_info": {
   "codemirror_mode": {
    "name": "ipython",
    "version": 3
   },
   "file_extension": ".py",
   "mimetype": "text/x-python",
   "name": "python",
   "nbconvert_exporter": "python",
   "pygments_lexer": "ipython3",
   "version": "3.13.2"
  }
 },
 "nbformat": 4,
 "nbformat_minor": 5
}
